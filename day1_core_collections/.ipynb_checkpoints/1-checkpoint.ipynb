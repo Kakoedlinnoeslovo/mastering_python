{
 "cells": [
  {
   "cell_type": "markdown",
   "metadata": {
    "collapsed": true
   },
   "source": [
    "# Core collections"
   ]
  },
  {
   "cell_type": "code",
   "execution_count": 4,
   "metadata": {},
   "outputs": [],
   "source": [
    "# list - a mutable list of items\n",
    "# O(n) complexity\n",
    "#it looks something like this\n",
    "\n",
    "def remove(items, value):\n",
    "    new_items = []\n",
    "    found = False\n",
    "    for item in items:\n",
    "        #Skip the first item which is equal to value\n",
    "        if not found and item == value:\n",
    "            found = True\n",
    "            continue\n",
    "        new_items.append(item)\n",
    "    \n",
    "    if not found:\n",
    "        raise ValueError('list.remove(x): x not in list')\n",
    "        \n",
    "    return new_items"
   ]
  },
  {
   "cell_type": "code",
   "execution_count": 14,
   "metadata": {},
   "outputs": [
    {
     "name": "stdout",
     "output_type": "stream",
     "text": [
      "Old list [1, 2, 3, 4], new list [1, 2, 4]\n"
     ]
    }
   ],
   "source": [
    "a = [1,2,3,4]\n",
    "b = remove(a, 3)\n",
    "print(\"Old list {}, new list {}\".format(a, b))"
   ]
  },
  {
   "cell_type": "code",
   "execution_count": 17,
   "metadata": {},
   "outputs": [],
   "source": [
    "#insert \n",
    "#O(n) complexity\n",
    "\n",
    "def insert(items, index, value):\n",
    "    new_items = []\n",
    "    for i, item in enumerate(items):\n",
    "        if i == index:\n",
    "            new_items.append(value)\n",
    "        #python need to copy new list!\n",
    "        new_items.append(item)\n",
    "    return new_items"
   ]
  },
  {
   "cell_type": "code",
   "execution_count": 15,
   "metadata": {},
   "outputs": [
    {
     "name": "stdout",
     "output_type": "stream",
     "text": [
      "Old list [1, 2, 4], new list [1, 2, 10, 4]\n"
     ]
    }
   ],
   "source": [
    "c = insert(b, 2, 10)\n",
    "print(\"Old list {}, new list {}\".format(b, c))"
   ]
  },
  {
   "cell_type": "code",
   "execution_count": 28,
   "metadata": {},
   "outputs": [
    {
     "name": "stdout",
     "output_type": "stream",
     "text": [
      "Here is classic [0, 5, 6, 8, 9]\n",
      "Here is comprehension [0, 5, 6, 8, 9]\n",
      "Here is filter [0, 5, 6, 8, 9]\n"
     ]
    }
   ],
   "source": [
    "# it is better to use comprehention or filter to remove something,\n",
    "# if you have a large numbers of removes\n",
    "\n",
    "#for example\n",
    "\n",
    "primes = set((1, 2, 3, 4, 7))\n",
    "\n",
    "#Classic solution\n",
    "items = list(range(10))\n",
    "for prime in primes:\n",
    "    items.remove(prime)\n",
    "\n",
    "print(\"Here is classic {}\".format(items))\n",
    "\n",
    "#List comprehension\n",
    "items = list(range(10))\n",
    "result = [item for item in items if item not in primes]\n",
    "print(\"Here is comprehension {}\".format(result))\n",
    "\n",
    "#Filter\n",
    "items = list(range(10))\n",
    "result = list(filter(lambda item: item not in primes, items))\n",
    "print(\"Here is filter {}\".format(result))\n",
    "\n",
    "#page 53"
   ]
  },
  {
   "cell_type": "code",
   "execution_count": null,
   "metadata": {},
   "outputs": [],
   "source": []
  }
 ],
 "metadata": {
  "kernelspec": {
   "display_name": "Python 3",
   "language": "python",
   "name": "python3"
  },
  "language_info": {
   "codemirror_mode": {
    "name": "ipython",
    "version": 3
   },
   "file_extension": ".py",
   "mimetype": "text/x-python",
   "name": "python",
   "nbconvert_exporter": "python",
   "pygments_lexer": "ipython3",
   "version": "3.6.6"
  }
 },
 "nbformat": 4,
 "nbformat_minor": 1
}
