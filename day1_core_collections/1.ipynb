{
 "cells": [
  {
   "cell_type": "markdown",
   "metadata": {
    "collapsed": true
   },
   "source": [
    "# Core collections"
   ]
  },
  {
   "cell_type": "code",
   "execution_count": 4,
   "metadata": {},
   "outputs": [],
   "source": [
    "# list - a mutable list of items\n",
    "# O(n) complexity\n",
    "#it looks something like this\n",
    "\n",
    "def remove(items, value):\n",
    "    new_items = []\n",
    "    found = False\n",
    "    for item in items:\n",
    "        #Skip the first item which is equal to value\n",
    "        if not found and item == value:\n",
    "            found = True\n",
    "            continue\n",
    "        new_items.append(item)\n",
    "    \n",
    "    if not found:\n",
    "        raise ValueError('list.remove(x): x not in list')\n",
    "        \n",
    "    return new_items"
   ]
  },
  {
   "cell_type": "code",
   "execution_count": 14,
   "metadata": {},
   "outputs": [
    {
     "name": "stdout",
     "output_type": "stream",
     "text": [
      "Old list [1, 2, 3, 4], new list [1, 2, 4]\n"
     ]
    }
   ],
   "source": [
    "a = [1,2,3,4]\n",
    "b = remove(a, 3)\n",
    "print(\"Old list {}, new list {}\".format(a, b))"
   ]
  },
  {
   "cell_type": "code",
   "execution_count": 17,
   "metadata": {},
   "outputs": [],
   "source": [
    "#insert \n",
    "#O(n) complexity\n",
    "\n",
    "def insert(items, index, value):\n",
    "    new_items = []\n",
    "    for i, item in enumerate(items):\n",
    "        if i == index:\n",
    "            new_items.append(value)\n",
    "        #python need to copy new list!\n",
    "        new_items.append(item)\n",
    "    return new_items"
   ]
  },
  {
   "cell_type": "code",
   "execution_count": 15,
   "metadata": {},
   "outputs": [
    {
     "name": "stdout",
     "output_type": "stream",
     "text": [
      "Old list [1, 2, 4], new list [1, 2, 10, 4]\n"
     ]
    }
   ],
   "source": [
    "c = insert(b, 2, 10)\n",
    "print(\"Old list {}, new list {}\".format(b, c))"
   ]
  },
  {
   "cell_type": "code",
   "execution_count": 28,
   "metadata": {},
   "outputs": [
    {
     "name": "stdout",
     "output_type": "stream",
     "text": [
      "Here is classic [0, 5, 6, 8, 9]\n",
      "Here is comprehension [0, 5, 6, 8, 9]\n",
      "Here is filter [0, 5, 6, 8, 9]\n"
     ]
    }
   ],
   "source": [
    "# it is better to use comprehention or filter to remove something,\n",
    "# if you have a large numbers of removes\n",
    "\n",
    "#for example\n",
    "\n",
    "primes = set((1, 2, 3, 4, 7))\n",
    "\n",
    "#Classic solution\n",
    "items = list(range(10))\n",
    "for prime in primes:\n",
    "    items.remove(prime)\n",
    "\n",
    "print(\"Here is classic {}\".format(items))\n",
    "\n",
    "#List comprehension\n",
    "items = list(range(10))\n",
    "result = [item for item in items if item not in primes]\n",
    "print(\"Here is comprehension {}\".format(result))\n",
    "\n",
    "#Filter\n",
    "items = list(range(10))\n",
    "result = list(filter(lambda item: item not in primes, items))\n",
    "print(\"Here is filter {}\".format(result))\n",
    "\n",
    "#page 53"
   ]
  },
  {
   "cell_type": "code",
   "execution_count": 9,
   "metadata": {},
   "outputs": [
    {
     "name": "stdout",
     "output_type": "stream",
     "text": [
      "hash of a string is -8246708218100498211\n"
     ]
    }
   ],
   "source": [
    "# dict unsorted but a fast map of items\n",
    "# time complexity O(1) for get, set and del\n",
    "s = '123'\n",
    "print(\"hash of a string is {}\".format(s.__hash__()))"
   ]
  },
  {
   "cell_type": "code",
   "execution_count": 12,
   "metadata": {},
   "outputs": [],
   "source": [
    "def most_significant(value):\n",
    "    while value >= 10:\n",
    "        value /=10\n",
    "    return int(value)"
   ]
  },
  {
   "cell_type": "code",
   "execution_count": 14,
   "metadata": {},
   "outputs": [
    {
     "data": {
      "text/plain": [
       "9"
      ]
     },
     "execution_count": 14,
     "metadata": {},
     "output_type": "execute_result"
    }
   ],
   "source": [
    "most_significant(999)"
   ]
  },
  {
   "cell_type": "code",
   "execution_count": 15,
   "metadata": {},
   "outputs": [],
   "source": [
    "#emulate dict using this hashing method"
   ]
  },
  {
   "cell_type": "code",
   "execution_count": 16,
   "metadata": {},
   "outputs": [],
   "source": [
    "def add(collection, key, value):\n",
    "    index = most_significant(key)\n",
    "    collection[index].append((key, value))"
   ]
  },
  {
   "cell_type": "code",
   "execution_count": 17,
   "metadata": {},
   "outputs": [],
   "source": [
    "def contains(collection, key):\n",
    "    index = most_significant(key)\n",
    "    for k, v in collection[index]:\n",
    "        if k == key:\n",
    "            return True\n",
    "    return False"
   ]
  },
  {
   "cell_type": "code",
   "execution_count": 33,
   "metadata": {},
   "outputs": [
    {
     "name": "stdout",
     "output_type": "stream",
     "text": [
      "[[], [(123, 'a')], [], [], [], [], [], [], [], []]\n",
      "[[], [(123, 'a')], [], [], [(456, 'b')], [], [], [], [], []]\n",
      "[[], [(123, 'a')], [], [], [(456, 'b')], [], [], [(789, 'c')], [], []]\n",
      "[[], [(123, 'a'), (1, 'd')], [], [], [(456, 'b')], [], [], [(789, 'c')], [], []]\n"
     ]
    },
    {
     "data": {
      "text/plain": [
       "True"
      ]
     },
     "execution_count": 33,
     "metadata": {},
     "output_type": "execute_result"
    }
   ],
   "source": [
    "collection = [[],[],[],[],[],[],[],[],[],[]]\n",
    "add(collection, 123, 'a')\n",
    "print(collection)\n",
    "add(collection, 456, 'b')\n",
    "print(collection)\n",
    "add(collection, 789, 'c')\n",
    "print(collection)\n",
    "add(collection, 1, 'd')\n",
    "print(collection)\n",
    "contains(collection, 123)\n",
    "\n",
    "#both keys, 123 and 101, are within the 1 bucket, \n",
    "#the runtime actually increase to O(n)\n",
    "#here is hash collision"
   ]
  },
  {
   "cell_type": "code",
   "execution_count": 34,
   "metadata": {},
   "outputs": [],
   "source": [
    "#Another suprise, when you delete element from dictionary, \n",
    "#it won't actually resize the dictionary in memory\n",
    "#So, if you add 1,000 items to a dict and remove 999, \n",
    "#iterating and copying will still take 1,000 steps"
   ]
  },
  {
   "cell_type": "code",
   "execution_count": null,
   "metadata": {},
   "outputs": [],
   "source": []
  }
 ],
 "metadata": {
  "kernelspec": {
   "display_name": "Python 3",
   "language": "python",
   "name": "python3"
  },
  "language_info": {
   "codemirror_mode": {
    "name": "ipython",
    "version": 3
   },
   "file_extension": ".py",
   "mimetype": "text/x-python",
   "name": "python",
   "nbconvert_exporter": "python",
   "pygments_lexer": "ipython3",
   "version": "3.6.6"
  }
 },
 "nbformat": 4,
 "nbformat_minor": 1
}
